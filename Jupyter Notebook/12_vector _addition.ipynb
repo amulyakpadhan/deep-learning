{
 "cells": [
  {
   "cell_type": "code",
   "execution_count": null,
   "metadata": {},
   "outputs": [],
   "source": [
    "import tensorflow as tf\n",
    "\n",
    "# Define two vectors\n",
    "vector1 = tf.constant([1, 2, 3], dtype=tf.float32)\n",
    "vector2 = tf.constant([4, 5, 6], dtype=tf.float32)\n",
    "\n",
    "# Perform vector addition\n",
    "result = tf.add(vector1, vector2)\n",
    "\n",
    "# Print the result\n",
    "print(\"Vector 1:\", vector1.numpy())\n",
    "print(\"Vector 2:\", vector2.numpy())\n",
    "print(\"Result (Vector 1 + Vector 2):\", result.numpy())\n"
   ]
  },
  {
   "cell_type": "code",
   "execution_count": null,
   "metadata": {},
   "outputs": [],
   "source": [
    "import tensorflow as tf\n",
    "\n",
    "# Define two larger vectors\n",
    "vector1 = tf.constant([i for i in range(1, 101)], dtype=tf.float32)\n",
    "vector2 = tf.constant([i for i in range(101, 201)], dtype=tf.float32)\n",
    "\n",
    "# Perform vector addition\n",
    "result = tf.add(vector1, vector2)\n",
    "\n",
    "# Print the result\n",
    "print(\"Vector 1:\", vector1.numpy())\n",
    "print(\"Vector 2:\", vector2.numpy())\n",
    "print(\"Result (Vector 1 + Vector 2):\", result.numpy())\n"
   ]
  }
 ],
 "metadata": {
  "language_info": {
   "name": "python"
  }
 },
 "nbformat": 4,
 "nbformat_minor": 2
}
