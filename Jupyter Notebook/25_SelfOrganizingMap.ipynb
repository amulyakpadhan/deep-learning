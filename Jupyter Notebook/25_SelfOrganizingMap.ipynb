{
 "cells": [
  {
   "cell_type": "markdown",
   "metadata": {},
   "source": [
    "# Self Organizing Map"
   ]
  },
  {
   "cell_type": "code",
   "execution_count": null,
   "metadata": {},
   "outputs": [
    {
     "name": "stdout",
     "output_type": "stream",
     "text": [
      "^C\n"
     ]
    },
    {
     "name": "stdout",
     "output_type": "stream",
     "text": [
      "Defaulting to user installation because normal site-packages is not writeable\n",
      "Collecting minisom\n",
      "  Downloading MiniSom-2.3.3.tar.gz (11 kB)\n",
      "  Installing build dependencies: started\n",
      "  Installing build dependencies: finished with status 'done'\n",
      "  Getting requirements to build wheel: started\n",
      "  Getting requirements to build wheel: finished with status 'done'\n",
      "  Preparing metadata (pyproject.toml): started\n",
      "  Preparing metadata (pyproject.toml): finished with status 'done'\n",
      "Building wheels for collected packages: minisom\n",
      "  Building wheel for minisom (pyproject.toml): started\n",
      "  Building wheel for minisom (pyproject.toml): finished with status 'done'\n",
      "  Created wheel for minisom: filename=MiniSom-2.3.3-py3-none-any.whl size=11719 sha256=93f9cade587c36a6a3f38bc222aa5bb4e2bd46383c9800aedea15e0e48d23aef\n",
      "  Stored in directory: c:\\users\\ahada\\appdata\\local\\pip\\cache\\wheels\\ec\\7e\\00\\ac334ebb21e9016a73bef195e9732606217c6894f96bd51e6f\n",
      "Successfully built minisom\n",
      "Installing collected packages: minisom\n",
      "Successfully installed minisom-2.3.3\n"
     ]
    }
   ],
   "source": [
    "!pip install minisom"
   ]
  },
  {
   "cell_type": "code",
   "execution_count": 5,
   "metadata": {},
   "outputs": [
    {
     "name": "stdout",
     "output_type": "stream",
     "text": [
      "Original Data (Patterns):\n",
      "   Pattern1  Pattern2  Pattern3  Pattern4\n",
      "0         1         0         1         0\n",
      "1         0         1         1         0\n",
      "2         1         0         0         1\n",
      "3         0         1         0         1\n",
      "\n",
      "SOM Weights:\n",
      "[[[ 9.63180633e-01  6.06621652e-05  9.99932648e-01  3.67691245e-02]\n",
      "  [ 7.46778425e-01  5.12871832e-03  9.10838415e-01  1.55800195e-01]\n",
      "  [ 2.84248241e-01 -9.92523303e-02 -1.25723881e-01  6.23413847e-01]]\n",
      "\n",
      " [[ 3.71916403e-02  2.68313582e-03  9.97303284e-01  9.62807714e-01]\n",
      "  [ 4.98233994e-01  4.91129681e-01  5.04008711e-01  4.99544385e-01]\n",
      "  [ 1.85396466e-01  9.36034770e-01  5.99844097e-02  7.11626087e-01]]\n",
      "\n",
      " [[ 4.82797714e-01  4.73223080e-01  4.99330922e-01  4.94923681e-01]\n",
      "  [ 9.64471596e-01  9.96716098e-01  3.26811680e-03  3.55217517e-02]\n",
      "  [ 3.93682143e-02  9.99940881e-01  3.98435990e-05  9.60629713e-01]]]\n"
     ]
    }
   ],
   "source": [
    "import numpy as np\n",
    "import pandas as pd\n",
    "from minisom import MiniSom\n",
    "import matplotlib.pyplot as plt\n",
    "\n",
    "# Define the binary patterns (from your small dataframe)\n",
    "data = {'Pattern1': [1, 0, 1, 0],\n",
    "        'Pattern2': [0, 1, 0, 1],\n",
    "        'Pattern3': [1, 1, 0, 0],\n",
    "        'Pattern4': [0, 0, 1, 1]}\n",
    "\n",
    "df = pd.DataFrame(data)\n",
    "print(\"Original Data (Patterns):\")\n",
    "print(df)\n",
    "\n",
    "# Convert the DataFrame to a numpy array (patterns as rows)\n",
    "patterns = df.values.T  # Transpose to treat each pattern as a column\n",
    "\n",
    "# Normalize the data (optional, but can help the SOM)\n",
    "# This step scales the values to be between 0 and 1\n",
    "patterns = (patterns - np.min(patterns, axis=1).reshape(-1, 1)) / (np.max(patterns, axis=1).reshape(-1, 1) - np.min(patterns, axis=1).reshape(-1, 1))\n",
    "\n",
    "# Define the dimensions of the SOM (for example, a 3x3 grid)\n",
    "som = MiniSom(x=3, y=3, input_len=patterns.shape[0], sigma=1.0, learning_rate=0.5)\n",
    "\n",
    "# Train the SOM on the dataset\n",
    "som.train(patterns, 100)  # 100 iterations for training\n",
    "\n",
    "# Display the weights of the SOM\n",
    "print(\"\\nSOM Weights:\")\n",
    "print(som.get_weights())"
   ]
  }
 ],
 "metadata": {
  "kernelspec": {
   "display_name": "Python 3",
   "language": "python",
   "name": "python3"
  },
  "language_info": {
   "codemirror_mode": {
    "name": "ipython",
    "version": 3
   },
   "file_extension": ".py",
   "mimetype": "text/x-python",
   "name": "python",
   "nbconvert_exporter": "python",
   "pygments_lexer": "ipython3",
   "version": "3.12.4"
  }
 },
 "nbformat": 4,
 "nbformat_minor": 2
}
