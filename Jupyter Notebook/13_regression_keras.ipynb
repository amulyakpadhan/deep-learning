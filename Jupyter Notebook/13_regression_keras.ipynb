{
 "cells": [
  {
   "cell_type": "code",
   "execution_count": null,
   "metadata": {},
   "outputs": [],
   "source": [
    "import tensorflow as tf\n",
    "from tensorflow.keras.models import Sequential\n",
    "from tensorflow.keras.layers import Dense\n",
    "import numpy as np\n",
    "\n",
    "# Generate synthetic data for regression\n",
    "X = np.random.rand(1000, 1)  # 1000 samples, 1 feature\n",
    "y = 3 * X[:, 0] + 2 + np.random.normal(0, 0.1, size=(1000,))  # y = 3x + 2 + noise\n",
    "\n",
    "# Split the data into training and testing sets\n",
    "X_train, X_test = X[:800], X[800:]\n",
    "y_train, y_test = y[:800], y[800:]\n",
    "\n",
    "# Build the regression model\n",
    "model = Sequential([\n",
    "    Dense(64, activation='relu', input_shape=(1,)),  # Input layer\n",
    "    Dense(32, activation='relu'),                   # Hidden layer\n",
    "    Dense(1)                                        # Output layer\n",
    "])\n",
    "\n",
    "# Compile the model\n",
    "model.compile(optimizer='adam', loss='mse', metrics=['mae'])\n",
    "\n",
    "# Train the model\n",
    "history = model.fit(X_train, y_train, epochs=50, batch_size=32, validation_split=0.2)\n",
    "\n",
    "# Evaluate the model on the test set\n",
    "loss, mae = model.evaluate(X_test, y_test)\n",
    "print(f\"Test Loss: {loss:.4f}, Test MAE: {mae:.4f}\")\n",
    "\n",
    "# Predict on new data\n",
    "y_pred = model.predict(X_test[:5])\n",
    "print(\"Predictions:\", y_pred.flatten())\n",
    "print(\"Actual Values:\", y_test[:5])\n"
   ]
  },
  {
   "cell_type": "code",
   "execution_count": null,
   "metadata": {},
   "outputs": [],
   "source": []
  }
 ],
 "metadata": {
  "language_info": {
   "name": "python"
  }
 },
 "nbformat": 4,
 "nbformat_minor": 2
}
