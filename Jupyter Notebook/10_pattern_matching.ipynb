{
 "cells": [
  {
   "cell_type": "code",
   "execution_count": 1,
   "metadata": {},
   "outputs": [
    {
     "name": "stdout",
     "output_type": "stream",
     "text": [
      "Weight Matrix:\n",
      "[[ 3 -1  1]\n",
      " [-1  3 -3]\n",
      " [ 1 -3  3]]\n",
      "\n",
      "Test Pattern: [ 1 -1  1]\n",
      "Predicted Output: [ 1 -1  1]\n"
     ]
    }
   ],
   "source": [
    "import numpy as np\n",
    "\n",
    "# Define the Hebbian learning rule\n",
    "def hebbian_learning(inputs, outputs):\n",
    "    \"\"\"\n",
    "    Calculate weight matrix using Hebbian learning.\n",
    "    :param inputs: Input patterns (matrix)\n",
    "    :param outputs: Output patterns (matrix)\n",
    "    :return: Weight matrix\n",
    "    \"\"\"\n",
    "    return np.dot(outputs.T, inputs)\n",
    "\n",
    "# Define patterns\n",
    "inputs = np.array([\n",
    "    [1, -1, 1],  # Input pattern 1\n",
    "    [-1, 1, -1], # Input pattern 2\n",
    "    [1, 1, -1]   # Input pattern 3\n",
    "])\n",
    "\n",
    "outputs = np.array([\n",
    "    [1, -1, 1],  # Output pattern 1\n",
    "    [-1, 1, -1], # Output pattern 2\n",
    "    [1, 1, -1]   # Output pattern 3\n",
    "])\n",
    "\n",
    "# Train using Hebbian rule\n",
    "weights = hebbian_learning(inputs, outputs)\n",
    "print(\"Weight Matrix:\")\n",
    "print(weights)\n",
    "\n",
    "# Test the pattern matcher\n",
    "def predict(input_pattern, weights):\n",
    "    return np.sign(np.dot(weights, input_pattern))\n",
    "\n",
    "test_pattern = np.array([1, -1, 1])  # Example test pattern\n",
    "predicted_output = predict(test_pattern, weights)\n",
    "print(\"\\nTest Pattern:\", test_pattern)\n",
    "print(\"Predicted Output:\", predicted_output)\n"
   ]
  }
 ],
 "metadata": {
  "kernelspec": {
   "display_name": "Python 3",
   "language": "python",
   "name": "python3"
  },
  "language_info": {
   "codemirror_mode": {
    "name": "ipython",
    "version": 3
   },
   "file_extension": ".py",
   "mimetype": "text/x-python",
   "name": "python",
   "nbconvert_exporter": "python",
   "pygments_lexer": "ipython3",
   "version": "3.12.3"
  }
 },
 "nbformat": 4,
 "nbformat_minor": 2
}
