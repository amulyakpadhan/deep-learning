{
 "cells": [
  {
   "cell_type": "code",
   "execution_count": null,
   "metadata": {},
   "outputs": [
    {
     "name": "stdout",
     "output_type": "stream",
     "text": [
      "Initial Weights: [0.45547737 0.55814054]\n",
      "Initial Bias: [0.40443265]\n",
      "Training stopped after 4 epochs.\n",
      "final weights:  [0.25547737 0.25814054]\n",
      "final bias:  [-0.29556735]\n",
      "Input: [0 0], Predicted Output: [0], Actual Output: 0\n",
      "Input: [0 1], Predicted Output: [0], Actual Output: 0\n",
      "Input: [1 0], Predicted Output: [0], Actual Output: 0\n",
      "Input: [1 1], Predicted Output: [1], Actual Output: 1\n"
     ]
    }
   ],
   "source": [
    "import numpy as np\n",
    "# Step function as activation function\n",
    "def step_function(x):\n",
    "    return np.where(x >= 0, 1, 0)\n",
    "\n",
    "# Perceptron training algorithm\n",
    "def perceptron_training(X, Y, learning_rate=0.1, epochs=10):\n",
    "    num_samples, num_features = X.shape\n",
    "    weights = np.random.rand(num_features)\n",
    "    bias = np.random.rand(1)\n",
    "    print(\"Initial Weights:\", weights)\n",
    "    print(\"Initial Bias:\", bias)\n",
    "\n",
    "    for epoch in range(epochs):\n",
    "        weight_changed = False  # Flag to check if weights changed\n",
    "\n",
    "        for i in range(num_samples):\n",
    "            # Calculate the net input (weighted sum + bias)\n",
    "            net_input = np.dot(X[i], weights) + bias\n",
    "\n",
    "            # Apply the step activation function\n",
    "            y_pred = step_function(net_input)\n",
    "\n",
    "            # Check if the output matches the target\n",
    "            if y_pred != Y[i]:\n",
    "                # If not, update weights and bias using the perceptron learning rule\n",
    "                weight_changed = True\n",
    "                error = Y[i] - y_pred\n",
    "                # Update weights and bias\n",
    "                weights += learning_rate * error * X[i]\n",
    "                bias += learning_rate * error\n",
    "\n",
    "        # Stop if no weight change occurred in the epoch\n",
    "        if not weight_changed:\n",
    "            print(f\"Training stopped after {epoch+1} epochs.\")\n",
    "            break\n",
    "\n",
    "    return weights, bias\n",
    "\n",
    "# Step 1: Initialize the input vectors and corresponding target outputs (AND logic)\n",
    "X = np.array([[0, 0], [0, 1], [1, 0], [1, 1]])\n",
    "Y = np.array([0, 0, 0, 1])\n",
    "\n",
    "# Step 2: Train the network weights\n",
    "learning_rate = 0.1\n",
    "epochs = 10\n",
    "weights, bias = perceptron_training(X, Y, learning_rate, epochs)\n",
    "\n",
    "# Step 3: Make predictions using the trained perceptron\n",
    "def predict(X, weights, bias):\n",
    "    net_input = np.dot(X, weights) + bias\n",
    "    return step_function(net_input)\n",
    "\n",
    "# Make predictions on the input dataset\n",
    "print(\"final weights: \",weights)\n",
    "print(\"final bias: \",bias)\n",
    "for i in range(len(X)):\n",
    "    prediction = predict(X[i], weights, bias)\n",
    "    print(f\"Input: {X[i]}, Predicted Output: {prediction}, Actual Output: {Y[i]}\")"
   ]
  }
 ],
 "metadata": {
  "kernelspec": {
   "display_name": "Python 3",
   "language": "python",
   "name": "python3"
  },
  "language_info": {
   "codemirror_mode": {
    "name": "ipython",
    "version": 3
   },
   "file_extension": ".py",
   "mimetype": "text/x-python",
   "name": "python",
   "nbconvert_exporter": "python",
   "pygments_lexer": "ipython3",
   "version": "3.12.4"
  }
 },
 "nbformat": 4,
 "nbformat_minor": 2
}
