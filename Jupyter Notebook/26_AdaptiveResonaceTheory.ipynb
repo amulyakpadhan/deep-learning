{
 "cells": [
  {
   "cell_type": "markdown",
   "metadata": {},
   "source": [
    "# Adaptive Resonance Theory (ART)"
   ]
  },
  {
   "cell_type": "code",
   "execution_count": 10,
   "metadata": {},
   "outputs": [
    {
     "name": "stdout",
     "output_type": "stream",
     "text": [
      "Weights after processing pattern [0, 0, 0, 1]:\n",
      "[[0.90129394 0.95029705 0.86988859 0.46648728]\n",
      " [0.38337086 0.23483211 0.6514186  0.78645763]\n",
      " [0.18191893 0.40992179 0.8056542  0.06656352]]\n",
      "Weights after processing pattern [0, 1, 0, 1]:\n",
      "[[0.81116455 0.92597803 0.78289973 0.49054923]\n",
      " [0.38337086 0.23483211 0.6514186  0.78645763]\n",
      " [0.18191893 0.40992179 0.8056542  0.06656352]]\n",
      "Weights after processing pattern [0, 0, 1, 1]:\n",
      "[[0.81116455 0.92597803 0.78289973 0.49054923]\n",
      " [0.34503377 0.2113489  0.65698742 0.77852255]\n",
      " [0.18191893 0.40992179 0.8056542  0.06656352]]\n",
      "Weights after processing pattern [1, 0, 0, 0]:\n",
      "[[0.83004809 0.83338022 0.70460976 0.4414943 ]\n",
      " [0.34503377 0.2113489  0.65698742 0.77852255]\n",
      " [0.18191893 0.40992179 0.8056542  0.06656352]]\n",
      "Final weights:\n",
      "[[0.83004809 0.83338022 0.70460976 0.4414943 ]\n",
      " [0.34503377 0.2113489  0.65698742 0.77852255]\n",
      " [0.18191893 0.40992179 0.8056542  0.06656352]]\n"
     ]
    }
   ],
   "source": [
    "import numpy as np\n",
    "\n",
    "class ART:\n",
    "    def __init__(self, input_size, num_clusters, vigilance=0.5):\n",
    "        self.weights = np.random.rand(num_clusters, input_size)  # Initialize weights randomly\n",
    "        self.vigilance = vigilance\n",
    "        self.num_clusters = num_clusters\n",
    "\n",
    "    def normalize(self, pattern):\n",
    "        return pattern / np.linalg.norm(pattern)\n",
    "\n",
    "    def fit(self, patterns):\n",
    "        for pattern in patterns.values():\n",
    "            normalized_pattern = self.normalize(np.array(pattern))\n",
    "            self._process_pattern(normalized_pattern)\n",
    "            # Print the weights after each pattern is processed\n",
    "            print(\"Weights after processing pattern {}:\".format(pattern))\n",
    "            print(self.weights)\n",
    "\n",
    "    def _process_pattern(self, pattern):\n",
    "        # Calculate the similarity between the input and the weights\n",
    "        similarities = np.dot(self.weights, pattern)\n",
    "\n",
    "        # Find the best matching unit (BMU)\n",
    "        bmu_index = np.argmax(similarities)\n",
    "        bmu_value = similarities[bmu_index]\n",
    "\n",
    "        # Check if the BMU meets the vigilance criterion\n",
    "        if bmu_value >= self.vigilance:\n",
    "            # Update the weights of the BMU\n",
    "            self.weights[bmu_index] += (pattern - self.weights[bmu_index]) * 0.1  # Learning rate\n",
    "        else:\n",
    "            # Check if there are available clusters\n",
    "            if np.any(np.isnan(self.weights).any(axis=1)):\n",
    "                # Find the first available cluster\n",
    "                available_cluster = np.where(np.isnan(self.weights).any(axis=1))[0][0]\n",
    "                self.weights[available_cluster] = pattern\n",
    "            else:\n",
    "                print(\"No available clusters. Pattern not assigned to any cluster.\")\n",
    "\n",
    "# Initialize ART with input size, number of clusters, and vigilance parameter\n",
    "art = ART(input_size=4, num_clusters=3)\n",
    "\n",
    "# Fit the model to the provided patterns\n",
    "patterns = {\n",
    "    'Pattern1': [0, 0, 0, 1],\n",
    "    'Pattern2': [0, 1, 0, 1],\n",
    "    'Pattern3': [0, 0, 1, 1],\n",
    "    'Pattern4': [1, 0, 0, 0]\n",
    "}\n",
    "art.fit(patterns)\n",
    "\n",
    "# Display the final weights\n",
    "print(\"Final weights:\")\n",
    "print(art.weights)"
   ]
  }
 ],
 "metadata": {
  "kernelspec": {
   "display_name": "Python 3",
   "language": "python",
   "name": "python3"
  },
  "language_info": {
   "codemirror_mode": {
    "name": "ipython",
    "version": 3
   },
   "file_extension": ".py",
   "mimetype": "text/x-python",
   "name": "python",
   "nbconvert_exporter": "python",
   "pygments_lexer": "ipython3",
   "version": "3.12.4"
  }
 },
 "nbformat": 4,
 "nbformat_minor": 2
}
