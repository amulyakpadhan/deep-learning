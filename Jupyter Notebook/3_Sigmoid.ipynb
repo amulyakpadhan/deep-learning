{
  "nbformat": 4,
  "nbformat_minor": 0,
  "metadata": {
    "colab": {
      "provenance": []
    },
    "kernelspec": {
      "name": "python3",
      "display_name": "Python 3"
    },
    "language_info": {
      "name": "python"
    }
  },
  "cells": [
    {
      "cell_type": "code",
      "execution_count": null,
      "metadata": {
        "id": "1gj9gdpFhwM5"
      },
      "outputs": [],
      "source": [
        "import numpy as np\n",
        "def sigmoid(x):\n",
        " return 1 / (1 + np.exp(-x))"
      ]
    },
    {
      "cell_type": "code",
      "source": [
        "x = np.array([-1, 0, 1])\n",
        "# Sigmoid\n",
        "print(sigmoid(x)) # [0.26894142 0.5 0.73105858]\n"
      ],
      "metadata": {
        "colab": {
          "base_uri": "https://localhost:8080/"
        },
        "id": "1z_uBF9PiBuX",
        "outputId": "a002a057-729e-4189-8a8f-5035b1531fb0"
      },
      "execution_count": null,
      "outputs": [
        {
          "output_type": "stream",
          "name": "stdout",
          "text": [
            "[0.26894142 0.5        0.73105858]\n"
          ]
        }
      ]
    },
    {
      "cell_type": "markdown",
      "source": [
        "### Plot Sigmoid"
      ],
      "metadata": {
        "id": "6Uyhs5F6kZLd"
      }
    },
    {
      "cell_type": "code",
      "source": [
        "import numpy as np\n",
        "import matplotlib.pyplot as plt\n",
        "def plot_sigmoid():\n",
        " x = np.linspace(-10, 10, 100) # Generate 100 equally spaced values from -10 to 10\n",
        " y = 1 / (1 + np.exp(-x)) # Compute the sigmoid function values\n",
        "\n",
        " plt.plot(x, y)\n",
        " plt.xlabel('Input')\n",
        " plt.ylabel('Sigmoid Output')\n",
        " plt.title('Sigmoid Activation Function')\n",
        " plt.grid(True)\n",
        " plt.show()"
      ],
      "metadata": {
        "id": "PRX7ghdYiPaI"
      },
      "execution_count": null,
      "outputs": []
    },
    {
      "cell_type": "code",
      "source": [
        "plot_sigmoid()"
      ],
      "metadata": {
        "colab": {
          "base_uri": "https://localhost:8080/",
          "height": 472
        },
        "id": "kXJyktVdjy1w",
        "outputId": "0ae0c8ff-8d62-4108-a565-1a441aa6d3e8"
      },
      "execution_count": null,
      "outputs": [
        {
          "output_type": "display_data",
          "data": {
            "text/plain": [
              "<Figure size 640x480 with 1 Axes>"
            ],
            "image/png": "[encoded data removed]"
          },
          "metadata": {}
        }
      ]
    },
    {
      "cell_type": "markdown",
      "source": [
        "### Implementation of sigmoid in a neural network using the MNIST dataset"
      ],
      "metadata": {
        "id": "Y9Gq1ZeZkxhX"
      }
    },
    {
      "cell_type": "code",
      "source": [
        "import numpy as np\n",
        "import tensorflow as tf\n",
        "from tensorflow import keras\n",
        "from tensorflow.keras import layers"
      ],
      "metadata": {
        "id": "uKgpFg-9k0P8"
      },
      "execution_count": null,
      "outputs": []
    },
    {
      "cell_type": "code",
      "source": [
        "# Load the MNIST dataset\n",
        "(x_train, y_train), (x_test, y_test) = keras.datasets.mnist.load_data()\n",
        "# Preprocess the data\n",
        "x_train = x_train.reshape(x_train.shape[0], 28 * 28).astype('float32') / 255\n",
        "x_test = x_test.reshape(x_test.shape[0], 28 * 28).astype('float32') / 255"
      ],
      "metadata": {
        "colab": {
          "base_uri": "https://localhost:8080/"
        },
        "id": "Sg9Y-Lwik2mQ",
        "outputId": "edd780e5-fb3a-4840-bf10-023b370a5cd6"
      },
      "execution_count": null,
      "outputs": [
        {
          "output_type": "stream",
          "name": "stdout",
          "text": [
            "Downloading data from https://storage.googleapis.com/tensorflow/tf-keras-datasets/mnist.npz\n",
            "\u001b[1m11490434/11490434\u001b[0m \u001b[32m━━━━━━━━━━━━━━━━━━━━\u001b[0m\u001b[37m\u001b[0m \u001b[1m0s\u001b[0m 0us/step\n"
          ]
        }
      ]
    },
    {
      "cell_type": "code",
      "source": [
        "# Convert labels to one-hot encodings\n",
        "y_train = keras.utils.to_categorical(y_train, 10)\n",
        "y_test = keras.utils.to_categorical(y_test, 10)\n",
        "\n",
        "# Define the activation functions\n",
        "def sigmoid(x):\n",
        " return 1 / (1 + np.exp(-x))\n",
        "\n",
        "# Build the model\n",
        "model = keras.Sequential([ layers.Dense(128, input_shape=(28 * 28,), activation='sigmoid'),\n",
        " layers.Dense(10, activation='softmax')\n",
        "])\n",
        "# Compile the model\n",
        "model.compile(optimizer='adam', loss='categorical_crossentropy', metrics=['accuracy'])# Train the model\n",
        "model.fit(x_train, y_train, epochs=5, batch_size=32)\n",
        "# Evaluate the model on the test set\n",
        "test_loss, test_acc = model.evaluate(x_test, y_test)\n",
        "print('Test Loss:', test_loss)\n",
        "print('Test Accuracy:', test_acc)"
      ],
      "metadata": {
        "colab": {
          "base_uri": "https://localhost:8080/"
        },
        "id": "60LRfdYgk8MW",
        "outputId": "f917e32f-9b15-4eaa-d4b8-ab9439a3b42d"
      },
      "execution_count": null,
      "outputs": [
        {
          "output_type": "stream",
          "name": "stderr",
          "text": [
            "/usr/local/lib/python3.10/dist-packages/keras/src/layers/core/dense.py:87: UserWarning: Do not pass an `input_shape`/`input_dim` argument to a layer. When using Sequential models, prefer using an `Input(shape)` object as the first layer in the model instead.\n",
            "  super().__init__(activity_regularizer=activity_regularizer, **kwargs)\n"
          ]
        },
        {
          "output_type": "stream",
          "name": "stdout",
          "text": [
            "Epoch 1/5\n",
            "\u001b[1m1875/1875\u001b[0m \u001b[32m━━━━━━━━━━━━━━━━━━━━\u001b[0m\u001b[37m\u001b[0m \u001b[1m9s\u001b[0m 4ms/step - accuracy: 0.8372 - loss: 0.6528\n",
            "Epoch 2/5\n",
            "\u001b[1m1875/1875\u001b[0m \u001b[32m━━━━━━━━━━━━━━━━━━━━\u001b[0m\u001b[37m\u001b[0m \u001b[1m9s\u001b[0m 4ms/step - accuracy: 0.9382 - loss: 0.2104\n",
            "Epoch 3/5\n",
            "\u001b[1m1875/1875\u001b[0m \u001b[32m━━━━━━━━━━━━━━━━━━━━\u001b[0m\u001b[37m\u001b[0m \u001b[1m8s\u001b[0m 4ms/step - accuracy: 0.9566 - loss: 0.1478\n",
            "Epoch 4/5\n",
            "\u001b[1m1875/1875\u001b[0m \u001b[32m━━━━━━━━━━━━━━━━━━━━\u001b[0m\u001b[37m\u001b[0m \u001b[1m8s\u001b[0m 4ms/step - accuracy: 0.9670 - loss: 0.1126\n",
            "Epoch 5/5\n",
            "\u001b[1m1875/1875\u001b[0m \u001b[32m━━━━━━━━━━━━━━━━━━━━\u001b[0m\u001b[37m\u001b[0m \u001b[1m7s\u001b[0m 4ms/step - accuracy: 0.9743 - loss: 0.0906\n",
            "\u001b[1m313/313\u001b[0m \u001b[32m━━━━━━━━━━━━━━━━━━━━\u001b[0m\u001b[37m\u001b[0m \u001b[1m1s\u001b[0m 2ms/step - accuracy: 0.9629 - loss: 0.1159\n",
            "Test Loss: 0.10272526741027832\n",
            "Test Accuracy: 0.9686999917030334\n"
          ]
        }
      ]
    }
  ]
}